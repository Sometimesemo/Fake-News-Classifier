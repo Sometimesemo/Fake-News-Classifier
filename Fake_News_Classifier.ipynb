{
  "cells": [
    {
      "cell_type": "markdown",
      "metadata": {
        "id": "view-in-github",
        "colab_type": "text"
      },
      "source": [
        "<a href=\"https://colab.research.google.com/github/Sometimesemo/Fake-News-Classifier/blob/main/Fake_News_Classifier.ipynb\" target=\"_parent\"><img src=\"https://colab.research.google.com/assets/colab-badge.svg\" alt=\"Open In Colab\"/></a>"
      ]
    },
    {
      "cell_type": "markdown",
      "source": [
        "# **1. Environment Setup**"
      ],
      "metadata": {
        "id": "h5vAjnfrF_9R"
      },
      "id": "h5vAjnfrF_9R"
    },
    {
      "cell_type": "markdown",
      "source": [
        "Command lines for installing the required libraries:"
      ],
      "metadata": {
        "id": "3EwNAnJmW4lO"
      },
      "id": "3EwNAnJmW4lO"
    },
    {
      "cell_type": "code",
      "source": [
        "# Data Visualization\n",
        "!pip install matplotlib\n",
        "!pip install seaborn\n",
        "\n",
        "# NLP Tools\n",
        "!pip install nltk\n",
        "!pip install spacy\n",
        "\n",
        "# Installing required NLTK data packages\n",
        "!python -m nltk.downloader popular\n",
        "\n",
        "# Installing spaCy's English model\n",
        "!python -m spacy download en_core_web_sm\n",
        "\n",
        "# Machine Learning (Part of scikit-learn)\n",
        "!pip install scikit-learn\n",
        "\n",
        "# Installing xgboost\n",
        "!pip install xgboost\n",
        "\n",
        "# Visualization of specific NLP Tools\n",
        "!pip install wordcloud\n"
      ],
      "metadata": {
        "id": "9rJIo9im1xTY"
      },
      "id": "9rJIo9im1xTY",
      "execution_count": null,
      "outputs": []
    },
    {
      "cell_type": "markdown",
      "source": [
        "Required Libraries and Imports:"
      ],
      "metadata": {
        "id": "kNj-9lQBXDub"
      },
      "id": "kNj-9lQBXDub"
    },
    {
      "cell_type": "code",
      "source": [
        "# Basic Data Processing and Mathematics\n",
        "import numpy as np\n",
        "import pandas as pd\n",
        "\n",
        "# Data Visualization\n",
        "import matplotlib.pyplot as plt\n",
        "import seaborn as sns\n",
        "\n",
        "# Text Processing and Regular Expressions\n",
        "import re\n",
        "\n",
        "# NLP Tools\n",
        "import nltk\n",
        "from nltk.tokenize import word_tokenize\n",
        "from nltk.corpus import stopwords\n",
        "from nltk.stem import PorterStemmer, WordNetLemmatizer\n",
        "import spacy\n",
        "\n",
        "# Machine Learning: Data Preparation and Feature Extraction\n",
        "from sklearn.model_selection import train_test_split\n",
        "from sklearn.feature_extraction.text import TfidfVectorizer\n",
        "from sklearn.preprocessing import StandardScaler, MinMaxScaler\n",
        "from sklearn.decomposition import PCA\n",
        "\n",
        "# Machine Learning: Classification Algorithms\n",
        "from sklearn.ensemble import RandomForestClassifier, AdaBoostClassifier\n",
        "from sklearn.linear_model import LogisticRegression\n",
        "from sklearn.svm import SVC\n",
        "from sklearn.neighbors import KNeighborsClassifier\n",
        "from sklearn.neural_network import MLPClassifier\n",
        "from sklearn.naive_bayes import MultinomialNB, GaussianNB\n",
        "from xgboost import XGBClassifier\n",
        "\n",
        "# Machine Learning: Model Evaluation and Optimization\n",
        "from sklearn.metrics import accuracy_score, classification_report, confusion_matrix\n",
        "from sklearn.metrics import precision_score, recall_score, f1_score\n",
        "from sklearn.metrics import roc_curve, roc_auc_score\n",
        "from sklearn.pipeline import Pipeline\n",
        "from sklearn.model_selection import GridSearchCV\n",
        "from sklearn.tree import DecisionTreeClassifier\n",
        "from sklearn import metrics\n",
        "\n",
        "# Visualization of specific NLP Tools\n",
        "from wordcloud import WordCloud\n",
        "\n",
        "# Plotting/ Testing\n",
        "import joblib\n",
        "from joblib import dump, load\n",
        "from collections import Counter\n",
        "from spacy.cli import download\n"
      ],
      "metadata": {
        "id": "iZGHLh7MKe6b"
      },
      "id": "iZGHLh7MKe6b",
      "execution_count": 2,
      "outputs": []
    },
    {
      "cell_type": "markdown",
      "source": [
        "Reading the Dataset and Assigning to the Name \"df\""
      ],
      "metadata": {
        "id": "OzWclhhDXKVl"
      },
      "id": "OzWclhhDXKVl"
    },
    {
      "cell_type": "code",
      "source": [
        "# Import Dataset 'news_articles.csv'\n",
        "# Change the correct Filepath if needed\n",
        "\n",
        "df = pd.read_csv('news_articles.csv')\n"
      ],
      "metadata": {
        "id": "moANzNIuV87Y"
      },
      "id": "moANzNIuV87Y",
      "execution_count": 4,
      "outputs": []
    },
    {
      "cell_type": "markdown",
      "source": [
        "# **2. Dataset Analysis and Data Cleaning**"
      ],
      "metadata": {
        "id": "8yXlBlLES4KX"
      },
      "id": "8yXlBlLES4KX"
    },
    {
      "cell_type": "markdown",
      "source": [
        "This section focuses on analyzing and cleaning the dataset. We start by examining the initial state of the dataset, identifying necessary modifications, and making appropriate changes to prepare the data for machine learning modeling."
      ],
      "metadata": {
        "id": "LWAxBh66GewB"
      },
      "id": "LWAxBh66GewB"
    },
    {
      "cell_type": "code",
      "source": [
        "# Displaying the first few rows of the dataset\n",
        "df.head(3)\n"
      ],
      "metadata": {
        "colab": {
          "base_uri": "https://localhost:8080/",
          "height": 510
        },
        "id": "yaxcq4vrUOAA",
        "outputId": "973b85c2-467e-4034-9cfb-fb6d1506632e"
      },
      "id": "yaxcq4vrUOAA",
      "execution_count": 5,
      "outputs": [
        {
          "output_type": "execute_result",
          "data": {
            "text/plain": [
              "                 author                      published  \\\n",
              "0     Barracuda Brigade  2016-10-26T21:41:00.000+03:00   \n",
              "1  reasoning with facts  2016-10-29T08:47:11.259+03:00   \n",
              "2     Barracuda Brigade  2016-10-31T01:41:49.479+02:00   \n",
              "\n",
              "                                               title  \\\n",
              "0  muslims busted they stole millions in govt ben...   \n",
              "1  re why did attorney general loretta lynch plea...   \n",
              "2  breaking weiner cooperating with fbi on hillar...   \n",
              "\n",
              "                                                text language  \\\n",
              "0  print they should pay all the back all the mon...  english   \n",
              "1  why did attorney general loretta lynch plead t...  english   \n",
              "2  red state  \\nfox news sunday reported this mor...  english   \n",
              "\n",
              "              site_url                                       main_img_url  \\\n",
              "0  100percentfedup.com  http://bb4sp.com/wp-content/uploads/2016/10/Fu...   \n",
              "1  100percentfedup.com  http://bb4sp.com/wp-content/uploads/2016/10/Fu...   \n",
              "2  100percentfedup.com  http://bb4sp.com/wp-content/uploads/2016/10/Fu...   \n",
              "\n",
              "   type label                            title_without_stopwords  \\\n",
              "0  bias  Real        muslims busted stole millions govt benefits   \n",
              "1  bias  Real         attorney general loretta lynch plead fifth   \n",
              "2  bias  Real  breaking weiner cooperating fbi hillary email ...   \n",
              "\n",
              "                              text_without_stopwords  hasImage  \n",
              "0  print pay back money plus interest entire fami...       1.0  \n",
              "1  attorney general loretta lynch plead fifth bar...       1.0  \n",
              "2  red state fox news sunday reported morning ant...       1.0  "
            ],
            "text/html": [
              "\n",
              "  <div id=\"df-3e53ca11-29f9-4ea7-8449-00eab30625fa\" class=\"colab-df-container\">\n",
              "    <div>\n",
              "<style scoped>\n",
              "    .dataframe tbody tr th:only-of-type {\n",
              "        vertical-align: middle;\n",
              "    }\n",
              "\n",
              "    .dataframe tbody tr th {\n",
              "        vertical-align: top;\n",
              "    }\n",
              "\n",
              "    .dataframe thead th {\n",
              "        text-align: right;\n",
              "    }\n",
              "</style>\n",
              "<table border=\"1\" class=\"dataframe\">\n",
              "  <thead>\n",
              "    <tr style=\"text-align: right;\">\n",
              "      <th></th>\n",
              "      <th>author</th>\n",
              "      <th>published</th>\n",
              "      <th>title</th>\n",
              "      <th>text</th>\n",
              "      <th>language</th>\n",
              "      <th>site_url</th>\n",
              "      <th>main_img_url</th>\n",
              "      <th>type</th>\n",
              "      <th>label</th>\n",
              "      <th>title_without_stopwords</th>\n",
              "      <th>text_without_stopwords</th>\n",
              "      <th>hasImage</th>\n",
              "    </tr>\n",
              "  </thead>\n",
              "  <tbody>\n",
              "    <tr>\n",
              "      <th>0</th>\n",
              "      <td>Barracuda Brigade</td>\n",
              "      <td>2016-10-26T21:41:00.000+03:00</td>\n",
              "      <td>muslims busted they stole millions in govt ben...</td>\n",
              "      <td>print they should pay all the back all the mon...</td>\n",
              "      <td>english</td>\n",
              "      <td>100percentfedup.com</td>\n",
              "      <td>http://bb4sp.com/wp-content/uploads/2016/10/Fu...</td>\n",
              "      <td>bias</td>\n",
              "      <td>Real</td>\n",
              "      <td>muslims busted stole millions govt benefits</td>\n",
              "      <td>print pay back money plus interest entire fami...</td>\n",
              "      <td>1.0</td>\n",
              "    </tr>\n",
              "    <tr>\n",
              "      <th>1</th>\n",
              "      <td>reasoning with facts</td>\n",
              "      <td>2016-10-29T08:47:11.259+03:00</td>\n",
              "      <td>re why did attorney general loretta lynch plea...</td>\n",
              "      <td>why did attorney general loretta lynch plead t...</td>\n",
              "      <td>english</td>\n",
              "      <td>100percentfedup.com</td>\n",
              "      <td>http://bb4sp.com/wp-content/uploads/2016/10/Fu...</td>\n",
              "      <td>bias</td>\n",
              "      <td>Real</td>\n",
              "      <td>attorney general loretta lynch plead fifth</td>\n",
              "      <td>attorney general loretta lynch plead fifth bar...</td>\n",
              "      <td>1.0</td>\n",
              "    </tr>\n",
              "    <tr>\n",
              "      <th>2</th>\n",
              "      <td>Barracuda Brigade</td>\n",
              "      <td>2016-10-31T01:41:49.479+02:00</td>\n",
              "      <td>breaking weiner cooperating with fbi on hillar...</td>\n",
              "      <td>red state  \\nfox news sunday reported this mor...</td>\n",
              "      <td>english</td>\n",
              "      <td>100percentfedup.com</td>\n",
              "      <td>http://bb4sp.com/wp-content/uploads/2016/10/Fu...</td>\n",
              "      <td>bias</td>\n",
              "      <td>Real</td>\n",
              "      <td>breaking weiner cooperating fbi hillary email ...</td>\n",
              "      <td>red state fox news sunday reported morning ant...</td>\n",
              "      <td>1.0</td>\n",
              "    </tr>\n",
              "  </tbody>\n",
              "</table>\n",
              "</div>\n",
              "    <div class=\"colab-df-buttons\">\n",
              "\n",
              "  <div class=\"colab-df-container\">\n",
              "    <button class=\"colab-df-convert\" onclick=\"convertToInteractive('df-3e53ca11-29f9-4ea7-8449-00eab30625fa')\"\n",
              "            title=\"Convert this dataframe to an interactive table.\"\n",
              "            style=\"display:none;\">\n",
              "\n",
              "  <svg xmlns=\"http://www.w3.org/2000/svg\" height=\"24px\" viewBox=\"0 -960 960 960\">\n",
              "    <path d=\"M120-120v-720h720v720H120Zm60-500h600v-160H180v160Zm220 220h160v-160H400v160Zm0 220h160v-160H400v160ZM180-400h160v-160H180v160Zm440 0h160v-160H620v160ZM180-180h160v-160H180v160Zm440 0h160v-160H620v160Z\"/>\n",
              "  </svg>\n",
              "    </button>\n",
              "\n",
              "  <style>\n",
              "    .colab-df-container {\n",
              "      display:flex;\n",
              "      gap: 12px;\n",
              "    }\n",
              "\n",
              "    .colab-df-convert {\n",
              "      background-color: #E8F0FE;\n",
              "      border: none;\n",
              "      border-radius: 50%;\n",
              "      cursor: pointer;\n",
              "      display: none;\n",
              "      fill: #1967D2;\n",
              "      height: 32px;\n",
              "      padding: 0 0 0 0;\n",
              "      width: 32px;\n",
              "    }\n",
              "\n",
              "    .colab-df-convert:hover {\n",
              "      background-color: #E2EBFA;\n",
              "      box-shadow: 0px 1px 2px rgba(60, 64, 67, 0.3), 0px 1px 3px 1px rgba(60, 64, 67, 0.15);\n",
              "      fill: #174EA6;\n",
              "    }\n",
              "\n",
              "    .colab-df-buttons div {\n",
              "      margin-bottom: 4px;\n",
              "    }\n",
              "\n",
              "    [theme=dark] .colab-df-convert {\n",
              "      background-color: #3B4455;\n",
              "      fill: #D2E3FC;\n",
              "    }\n",
              "\n",
              "    [theme=dark] .colab-df-convert:hover {\n",
              "      background-color: #434B5C;\n",
              "      box-shadow: 0px 1px 3px 1px rgba(0, 0, 0, 0.15);\n",
              "      filter: drop-shadow(0px 1px 2px rgba(0, 0, 0, 0.3));\n",
              "      fill: #FFFFFF;\n",
              "    }\n",
              "  </style>\n",
              "\n",
              "    <script>\n",
              "      const buttonEl =\n",
              "        document.querySelector('#df-3e53ca11-29f9-4ea7-8449-00eab30625fa button.colab-df-convert');\n",
              "      buttonEl.style.display =\n",
              "        google.colab.kernel.accessAllowed ? 'block' : 'none';\n",
              "\n",
              "      async function convertToInteractive(key) {\n",
              "        const element = document.querySelector('#df-3e53ca11-29f9-4ea7-8449-00eab30625fa');\n",
              "        const dataTable =\n",
              "          await google.colab.kernel.invokeFunction('convertToInteractive',\n",
              "                                                    [key], {});\n",
              "        if (!dataTable) return;\n",
              "\n",
              "        const docLinkHtml = 'Like what you see? Visit the ' +\n",
              "          '<a target=\"_blank\" href=https://colab.research.google.com/notebooks/data_table.ipynb>data table notebook</a>'\n",
              "          + ' to learn more about interactive tables.';\n",
              "        element.innerHTML = '';\n",
              "        dataTable['output_type'] = 'display_data';\n",
              "        await google.colab.output.renderOutput(dataTable, element);\n",
              "        const docLink = document.createElement('div');\n",
              "        docLink.innerHTML = docLinkHtml;\n",
              "        element.appendChild(docLink);\n",
              "      }\n",
              "    </script>\n",
              "  </div>\n",
              "\n",
              "\n",
              "<div id=\"df-2a6e2cad-84dc-40e0-b44f-aeb503424157\">\n",
              "  <button class=\"colab-df-quickchart\" onclick=\"quickchart('df-2a6e2cad-84dc-40e0-b44f-aeb503424157')\"\n",
              "            title=\"Suggest charts\"\n",
              "            style=\"display:none;\">\n",
              "\n",
              "<svg xmlns=\"http://www.w3.org/2000/svg\" height=\"24px\"viewBox=\"0 0 24 24\"\n",
              "     width=\"24px\">\n",
              "    <g>\n",
              "        <path d=\"M19 3H5c-1.1 0-2 .9-2 2v14c0 1.1.9 2 2 2h14c1.1 0 2-.9 2-2V5c0-1.1-.9-2-2-2zM9 17H7v-7h2v7zm4 0h-2V7h2v10zm4 0h-2v-4h2v4z\"/>\n",
              "    </g>\n",
              "</svg>\n",
              "  </button>\n",
              "\n",
              "<style>\n",
              "  .colab-df-quickchart {\n",
              "      --bg-color: #E8F0FE;\n",
              "      --fill-color: #1967D2;\n",
              "      --hover-bg-color: #E2EBFA;\n",
              "      --hover-fill-color: #174EA6;\n",
              "      --disabled-fill-color: #AAA;\n",
              "      --disabled-bg-color: #DDD;\n",
              "  }\n",
              "\n",
              "  [theme=dark] .colab-df-quickchart {\n",
              "      --bg-color: #3B4455;\n",
              "      --fill-color: #D2E3FC;\n",
              "      --hover-bg-color: #434B5C;\n",
              "      --hover-fill-color: #FFFFFF;\n",
              "      --disabled-bg-color: #3B4455;\n",
              "      --disabled-fill-color: #666;\n",
              "  }\n",
              "\n",
              "  .colab-df-quickchart {\n",
              "    background-color: var(--bg-color);\n",
              "    border: none;\n",
              "    border-radius: 50%;\n",
              "    cursor: pointer;\n",
              "    display: none;\n",
              "    fill: var(--fill-color);\n",
              "    height: 32px;\n",
              "    padding: 0;\n",
              "    width: 32px;\n",
              "  }\n",
              "\n",
              "  .colab-df-quickchart:hover {\n",
              "    background-color: var(--hover-bg-color);\n",
              "    box-shadow: 0 1px 2px rgba(60, 64, 67, 0.3), 0 1px 3px 1px rgba(60, 64, 67, 0.15);\n",
              "    fill: var(--button-hover-fill-color);\n",
              "  }\n",
              "\n",
              "  .colab-df-quickchart-complete:disabled,\n",
              "  .colab-df-quickchart-complete:disabled:hover {\n",
              "    background-color: var(--disabled-bg-color);\n",
              "    fill: var(--disabled-fill-color);\n",
              "    box-shadow: none;\n",
              "  }\n",
              "\n",
              "  .colab-df-spinner {\n",
              "    border: 2px solid var(--fill-color);\n",
              "    border-color: transparent;\n",
              "    border-bottom-color: var(--fill-color);\n",
              "    animation:\n",
              "      spin 1s steps(1) infinite;\n",
              "  }\n",
              "\n",
              "  @keyframes spin {\n",
              "    0% {\n",
              "      border-color: transparent;\n",
              "      border-bottom-color: var(--fill-color);\n",
              "      border-left-color: var(--fill-color);\n",
              "    }\n",
              "    20% {\n",
              "      border-color: transparent;\n",
              "      border-left-color: var(--fill-color);\n",
              "      border-top-color: var(--fill-color);\n",
              "    }\n",
              "    30% {\n",
              "      border-color: transparent;\n",
              "      border-left-color: var(--fill-color);\n",
              "      border-top-color: var(--fill-color);\n",
              "      border-right-color: var(--fill-color);\n",
              "    }\n",
              "    40% {\n",
              "      border-color: transparent;\n",
              "      border-right-color: var(--fill-color);\n",
              "      border-top-color: var(--fill-color);\n",
              "    }\n",
              "    60% {\n",
              "      border-color: transparent;\n",
              "      border-right-color: var(--fill-color);\n",
              "    }\n",
              "    80% {\n",
              "      border-color: transparent;\n",
              "      border-right-color: var(--fill-color);\n",
              "      border-bottom-color: var(--fill-color);\n",
              "    }\n",
              "    90% {\n",
              "      border-color: transparent;\n",
              "      border-bottom-color: var(--fill-color);\n",
              "    }\n",
              "  }\n",
              "</style>\n",
              "\n",
              "  <script>\n",
              "    async function quickchart(key) {\n",
              "      const quickchartButtonEl =\n",
              "        document.querySelector('#' + key + ' button');\n",
              "      quickchartButtonEl.disabled = true;  // To prevent multiple clicks.\n",
              "      quickchartButtonEl.classList.add('colab-df-spinner');\n",
              "      try {\n",
              "        const charts = await google.colab.kernel.invokeFunction(\n",
              "            'suggestCharts', [key], {});\n",
              "      } catch (error) {\n",
              "        console.error('Error during call to suggestCharts:', error);\n",
              "      }\n",
              "      quickchartButtonEl.classList.remove('colab-df-spinner');\n",
              "      quickchartButtonEl.classList.add('colab-df-quickchart-complete');\n",
              "    }\n",
              "    (() => {\n",
              "      let quickchartButtonEl =\n",
              "        document.querySelector('#df-2a6e2cad-84dc-40e0-b44f-aeb503424157 button');\n",
              "      quickchartButtonEl.style.display =\n",
              "        google.colab.kernel.accessAllowed ? 'block' : 'none';\n",
              "    })();\n",
              "  </script>\n",
              "</div>\n",
              "    </div>\n",
              "  </div>\n"
            ]
          },
          "metadata": {},
          "execution_count": 5
        }
      ]
    },
    {
      "cell_type": "code",
      "source": [
        "# Grouping the contents of the 'label' column and displaying the total count\n",
        "print(f\"{df['label'].value_counts()}\\n\\n\")\n",
        "\n",
        "# Counting all NaN values in the entire CSV\n",
        "print(f'Number of NaN values in the entire CSV: {df.isna().sum()}\\n\\n')\n",
        "\n",
        "# Counting the number of rows in the CSV\n",
        "print(f'Number of rows in the CSV: {len(df)}\\n\\n')\n"
      ],
      "metadata": {
        "colab": {
          "base_uri": "https://localhost:8080/"
        },
        "id": "uzdPWVItVYw4",
        "outputId": "9aa0a571-1164-4bbb-85f3-83f214c5e949"
      },
      "id": "uzdPWVItVYw4",
      "execution_count": 6,
      "outputs": [
        {
          "output_type": "stream",
          "name": "stdout",
          "text": [
            "Fake    1294\n",
            "Real     801\n",
            "Name: label, dtype: int64\n",
            "\n",
            "\n",
            "Number of NaN values in the entire CSV: author                      0\n",
            "published                   0\n",
            "title                       0\n",
            "text                       46\n",
            "language                    1\n",
            "site_url                    1\n",
            "main_img_url                1\n",
            "type                        1\n",
            "label                       1\n",
            "title_without_stopwords     2\n",
            "text_without_stopwords     50\n",
            "hasImage                    1\n",
            "dtype: int64\n",
            "\n",
            "\n",
            "Number of rows in the CSV: 2096\n",
            "\n",
            "\n"
          ]
        }
      ]
    },
    {
      "cell_type": "markdown",
      "source": [
        "#### Overview of Dataset Versions:\n",
        "\n",
        "**`df`: The Unaltered Dataset**\n",
        "- This is the original dataset where only the 'Fake'/‘Real’ values in the 'label' column have been changed to 1/0, and 'bs' to 'bullshit' for clarity.\n",
        "\n",
        "**`df_reduced`: The Manipulated Dataset**\n",
        "- We have chosen to create a new dataset named `df_reduced`, which will be used for further processing and analysis.\n"
      ],
      "metadata": {
        "id": "8lAfJmz_tPNO"
      },
      "id": "8lAfJmz_tPNO"
    },
    {
      "cell_type": "markdown",
      "source": [
        "#### Rationale Behind Column Selection:\n",
        "\n",
        "**Pre-removal of NaN Rows**\n",
        "- The decision on which columns to retain is made before removing NaN rows. This approach ensures we do not inadvertently discard rows where NaN values are present in columns that will be excluded eventually.\n",
        "\n",
        "**Focus on 'title' and 'text' Columns**\n",
        "- We decided to focus on the 'title' and 'text' columns as features for our model. This decision was influenced by existing analyses on Kaggle, which include a broader range of columns. Our goal is to observe how predictions vary when only text data is used.\n",
        "- The 'type' column was initially unclear to us, prompting a separate, more detailed analysis. Ultimately, we chose 'label' as our target variable, encoding Fake News as 1 and Not Fake News as 0.\n",
        "\n",
        "**Reason for Removing Pre-processed Stopwords Columns**\n",
        "- We opted to perform our own stopwords removal for the sake of learning and to ensure uniform formatting between the training texts and texts to be labeled later. This uniformity is crucial for the accuracy and reliability of our model. Unfortunately, we lack specific details on how stopwords were originally removed in the dataset.\n"
      ],
      "metadata": {
        "id": "TgbBjAtktSyH"
      },
      "id": "TgbBjAtktSyH"
    },
    {
      "cell_type": "markdown",
      "source": [
        "**Converting 'Fake' and 'Real' to Numerical Values**\n",
        "- Machine learning models typically work with numerical data. Converting text labels to numerical values (1 for Fake, 0 for Real) allows the model to process data more efficiently.\n",
        "- This transformation ensures uniform data formats, simplifying the learning process as many machine learning algorithms, especially classification algorithms, expect numerical input data.\n",
        "- Numerical encoding enhances computational efficiency since number operations are generally faster than text data operations.\n",
        "- In this context, encoding 1 as 'Fake' and 0 as 'Real' allows the model to interpret '1' as the class for Fake News and '0' for genuine, verified news, a method often referred to as binary encoding, effective for binary classification problems.\n"
      ],
      "metadata": {
        "id": "oXjzkY-1tVUl"
      },
      "id": "oXjzkY-1tVUl"
    },
    {
      "cell_type": "code",
      "source": [
        "# Replacing 'Fake' and 'Real' in the 'label' column with 1 and 0\n",
        "df['label'] = df['label'].map({'Fake': 1, 'Real': 0})\n"
      ],
      "metadata": {
        "id": "LFncymulthES"
      },
      "id": "LFncymulthES",
      "execution_count": 7,
      "outputs": []
    },
    {
      "cell_type": "markdown",
      "source": [
        "**Changing 'bs' to 'bullshit' in 'type' Column**\n",
        "- The change from 'bs' to 'bullshit' in the 'type' column is more about clarity than necessity. This change does not hold significant analytical value and could be mentioned more aptly in dataset documentation or description.\n"
      ],
      "metadata": {
        "id": "wcikQbuttVlK"
      },
      "id": "wcikQbuttVlK"
    },
    {
      "cell_type": "code",
      "source": [
        "# Replacing 'bs' with 'bullshit' in the 'type' column\n",
        "df['type'] = df['type'].replace('bs', 'bullshit', regex=True)\n"
      ],
      "metadata": {
        "id": "ZL4NkA7jtk2r"
      },
      "id": "ZL4NkA7jtk2r",
      "execution_count": 8,
      "outputs": []
    },
    {
      "cell_type": "markdown",
      "source": [
        "#### Removing Redundant Columns\n",
        "\n",
        "To streamline our dataset for analysis, we remove several columns that are not relevant to our study. This includes columns like 'author', 'published', etc., which do not contribute to our goal of Fake News classification. By focusing only on the most pertinent data, we aim to enhance the model's accuracy and reduce noise in the dataset.\n"
      ],
      "metadata": {
        "id": "m1H3Qy-fuRut"
      },
      "id": "m1H3Qy-fuRut"
    },
    {
      "cell_type": "code",
      "source": [
        "# Dropping unnecessary columns\n",
        "df_reduced = df.drop(columns=['author', 'published', 'language', 'site_url', 'main_img_url', 'title_without_stopwords', 'text_without_stopwords', 'hasImage'], errors='ignore')\n",
        "\n",
        "# Displaying the first row of the reduced dataset\n",
        "df_reduced.head(1)\n"
      ],
      "metadata": {
        "colab": {
          "base_uri": "https://localhost:8080/",
          "height": 80
        },
        "id": "IJ8Fzgi4XOHW",
        "outputId": "5c0e7bb9-2a84-46fe-de0f-e5afb192d9ff"
      },
      "id": "IJ8Fzgi4XOHW",
      "execution_count": 9,
      "outputs": [
        {
          "output_type": "execute_result",
          "data": {
            "text/plain": [
              "                                               title  \\\n",
              "0  muslims busted they stole millions in govt ben...   \n",
              "\n",
              "                                                text  type  label  \n",
              "0  print they should pay all the back all the mon...  bias    0.0  "
            ],
            "text/html": [
              "\n",
              "  <div id=\"df-b25a4a2e-3f76-4f0b-b11f-62a70f64fb5d\" class=\"colab-df-container\">\n",
              "    <div>\n",
              "<style scoped>\n",
              "    .dataframe tbody tr th:only-of-type {\n",
              "        vertical-align: middle;\n",
              "    }\n",
              "\n",
              "    .dataframe tbody tr th {\n",
              "        vertical-align: top;\n",
              "    }\n",
              "\n",
              "    .dataframe thead th {\n",
              "        text-align: right;\n",
              "    }\n",
              "</style>\n",
              "<table border=\"1\" class=\"dataframe\">\n",
              "  <thead>\n",
              "    <tr style=\"text-align: right;\">\n",
              "      <th></th>\n",
              "      <th>title</th>\n",
              "      <th>text</th>\n",
              "      <th>type</th>\n",
              "      <th>label</th>\n",
              "    </tr>\n",
              "  </thead>\n",
              "  <tbody>\n",
              "    <tr>\n",
              "      <th>0</th>\n",
              "      <td>muslims busted they stole millions in govt ben...</td>\n",
              "      <td>print they should pay all the back all the mon...</td>\n",
              "      <td>bias</td>\n",
              "      <td>0.0</td>\n",
              "    </tr>\n",
              "  </tbody>\n",
              "</table>\n",
              "</div>\n",
              "    <div class=\"colab-df-buttons\">\n",
              "\n",
              "  <div class=\"colab-df-container\">\n",
              "    <button class=\"colab-df-convert\" onclick=\"convertToInteractive('df-b25a4a2e-3f76-4f0b-b11f-62a70f64fb5d')\"\n",
              "            title=\"Convert this dataframe to an interactive table.\"\n",
              "            style=\"display:none;\">\n",
              "\n",
              "  <svg xmlns=\"http://www.w3.org/2000/svg\" height=\"24px\" viewBox=\"0 -960 960 960\">\n",
              "    <path d=\"M120-120v-720h720v720H120Zm60-500h600v-160H180v160Zm220 220h160v-160H400v160Zm0 220h160v-160H400v160ZM180-400h160v-160H180v160Zm440 0h160v-160H620v160ZM180-180h160v-160H180v160Zm440 0h160v-160H620v160Z\"/>\n",
              "  </svg>\n",
              "    </button>\n",
              "\n",
              "  <style>\n",
              "    .colab-df-container {\n",
              "      display:flex;\n",
              "      gap: 12px;\n",
              "    }\n",
              "\n",
              "    .colab-df-convert {\n",
              "      background-color: #E8F0FE;\n",
              "      border: none;\n",
              "      border-radius: 50%;\n",
              "      cursor: pointer;\n",
              "      display: none;\n",
              "      fill: #1967D2;\n",
              "      height: 32px;\n",
              "      padding: 0 0 0 0;\n",
              "      width: 32px;\n",
              "    }\n",
              "\n",
              "    .colab-df-convert:hover {\n",
              "      background-color: #E2EBFA;\n",
              "      box-shadow: 0px 1px 2px rgba(60, 64, 67, 0.3), 0px 1px 3px 1px rgba(60, 64, 67, 0.15);\n",
              "      fill: #174EA6;\n",
              "    }\n",
              "\n",
              "    .colab-df-buttons div {\n",
              "      margin-bottom: 4px;\n",
              "    }\n",
              "\n",
              "    [theme=dark] .colab-df-convert {\n",
              "      background-color: #3B4455;\n",
              "      fill: #D2E3FC;\n",
              "    }\n",
              "\n",
              "    [theme=dark] .colab-df-convert:hover {\n",
              "      background-color: #434B5C;\n",
              "      box-shadow: 0px 1px 3px 1px rgba(0, 0, 0, 0.15);\n",
              "      filter: drop-shadow(0px 1px 2px rgba(0, 0, 0, 0.3));\n",
              "      fill: #FFFFFF;\n",
              "    }\n",
              "  </style>\n",
              "\n",
              "    <script>\n",
              "      const buttonEl =\n",
              "        document.querySelector('#df-b25a4a2e-3f76-4f0b-b11f-62a70f64fb5d button.colab-df-convert');\n",
              "      buttonEl.style.display =\n",
              "        google.colab.kernel.accessAllowed ? 'block' : 'none';\n",
              "\n",
              "      async function convertToInteractive(key) {\n",
              "        const element = document.querySelector('#df-b25a4a2e-3f76-4f0b-b11f-62a70f64fb5d');\n",
              "        const dataTable =\n",
              "          await google.colab.kernel.invokeFunction('convertToInteractive',\n",
              "                                                    [key], {});\n",
              "        if (!dataTable) return;\n",
              "\n",
              "        const docLinkHtml = 'Like what you see? Visit the ' +\n",
              "          '<a target=\"_blank\" href=https://colab.research.google.com/notebooks/data_table.ipynb>data table notebook</a>'\n",
              "          + ' to learn more about interactive tables.';\n",
              "        element.innerHTML = '';\n",
              "        dataTable['output_type'] = 'display_data';\n",
              "        await google.colab.output.renderOutput(dataTable, element);\n",
              "        const docLink = document.createElement('div');\n",
              "        docLink.innerHTML = docLinkHtml;\n",
              "        element.appendChild(docLink);\n",
              "      }\n",
              "    </script>\n",
              "  </div>\n",
              "\n",
              "    </div>\n",
              "  </div>\n"
            ]
          },
          "metadata": {},
          "execution_count": 9
        }
      ]
    },
    {
      "cell_type": "markdown",
      "source": [
        "#### Detailed Analysis of the 'type' Column\n",
        "\n",
        "We conducted a thorough analysis of the 'type' column to understand its significance and implications. Initially, the purpose and classification criteria of this column were unclear, leading us to investigate it further. Despite its potential as an influential factor, we decided to exclude it from our final model. This decision was driven by the lack of clarity in how 'type' values were assigned and the realization that such information might not be available for new texts in a real-world application. Moreover, we observed that certain 'type' declarations like 'bias', 'state', 'hate' were exclusively associated with Fake News, potentially skewing the learning process by implicitly including the label within the features.\n"
      ],
      "metadata": {
        "id": "5FI90v4sEv0N"
      },
      "id": "5FI90v4sEv0N"
    },
    {
      "cell_type": "code",
      "source": [
        "# Grouping contents of the 'type' column and displaying the total count\n",
        "print(\"Amount of each type:\")\n",
        "print(df['type'].value_counts())\n",
        "\n",
        "print(\"\\n\\n\")\n",
        "\n",
        "print(\"Amount of each type in %:\")\n",
        "print(df['type'].value_counts(normalize = True) * 100)\n",
        "\n",
        "print(\"\\n\\n\")\n",
        "\n",
        "# Creating a pie chart to visualize the distribution of article types\n",
        "df['type'].value_counts().plot.pie(autopct='%1.1f%%', figsize=(8, 8), startangle=90)\n",
        "plt.title('Distribution of Article Types \\n')\n",
        "plt.axis('equal')  # Equal axis for better pie chart representation\n",
        "plt.show()\n",
        "\n",
        "# Visual comparison of 'type' with respect to the assigned labels\n",
        "sns.countplot(x=df_reduced['type'], hue=df_reduced['label'])\n",
        "plt.title(\"Comparison of 'type' with Respect to Assigned Labels\")\n",
        "plt.xticks(rotation=60)\n",
        "plt.tight_layout()\n"
      ],
      "metadata": {
        "colab": {
          "base_uri": "https://localhost:8080/",
          "height": 1000
        },
        "id": "Bl-WarDwVhh_",
        "outputId": "6dc81d93-c53e-418f-d110-fb285220aa83"
      },
      "id": "Bl-WarDwVhh_",
      "execution_count": 10,
      "outputs": [
        {
          "output_type": "stream",
          "name": "stdout",
          "text": [
            "Amount of each type:\n",
            "bullshit      601\n",
            "bias          436\n",
            "conspiracy    430\n",
            "hate          244\n",
            "satire        146\n",
            "state         121\n",
            "junksci       102\n",
            "fake           15\n",
            "Name: type, dtype: int64\n",
            "\n",
            "\n",
            "\n",
            "Amount of each type in %:\n",
            "bullshit      28.687351\n",
            "bias          20.811456\n",
            "conspiracy    20.525060\n",
            "hate          11.646778\n",
            "satire         6.968974\n",
            "state          5.775656\n",
            "junksci        4.868735\n",
            "fake           0.715990\n",
            "Name: type, dtype: float64\n",
            "\n",
            "\n",
            "\n"
          ]
        },
        {
          "output_type": "display_data",
          "data": {
            "text/plain": [
              "<Figure size 800x800 with 1 Axes>"
            ],
            "image/png": "[encoded data removed]"
          },
          "metadata": {}
        },
        {
          "output_type": "display_data",
          "data": {
            "text/plain": [
              "<Figure size 640x480 with 1 Axes>"
            ],
            "image/png": "[encoded data removed]"
          },
          "metadata": {}
        }
      ]
    },
    {
      "cell_type": "code",
      "source": [
        "# Dropping the 'type' column\n",
        "columns_to_drop = ['type']\n",
        "df_reduced = df_reduced.drop(columns=columns_to_drop, errors='ignore')\n",
        "\n",
        "# Displaying a sample row to confirm the drop\n",
        "print(\"Rows: \\n\")\n",
        "df_reduced.sample(1)\n"
      ],
      "metadata": {
        "colab": {
          "base_uri": "https://localhost:8080/",
          "height": 115
        },
        "id": "YqtuXWYYvUud",
        "outputId": "4cc6e4dc-c814-49b2-db81-5abc9b6f49ae"
      },
      "id": "YqtuXWYYvUud",
      "execution_count": 11,
      "outputs": [
        {
          "output_type": "stream",
          "name": "stdout",
          "text": [
            "Rows: \n",
            "\n"
          ]
        },
        {
          "output_type": "execute_result",
          "data": {
            "text/plain": [
              "                             title  \\\n",
              "1361  how to heal hemorrhoids fast   \n",
              "\n",
              "                                                   text  label  \n",
              "1361  at a donald trump rally in north carolina a pr...    1.0  "
            ],
            "text/html": [
              "\n",
              "  <div id=\"df-fdb9c709-54ac-43d3-8ba6-7973872ce1c6\" class=\"colab-df-container\">\n",
              "    <div>\n",
              "<style scoped>\n",
              "    .dataframe tbody tr th:only-of-type {\n",
              "        vertical-align: middle;\n",
              "    }\n",
              "\n",
              "    .dataframe tbody tr th {\n",
              "        vertical-align: top;\n",
              "    }\n",
              "\n",
              "    .dataframe thead th {\n",
              "        text-align: right;\n",
              "    }\n",
              "</style>\n",
              "<table border=\"1\" class=\"dataframe\">\n",
              "  <thead>\n",
              "    <tr style=\"text-align: right;\">\n",
              "      <th></th>\n",
              "      <th>title</th>\n",
              "      <th>text</th>\n",
              "      <th>label</th>\n",
              "    </tr>\n",
              "  </thead>\n",
              "  <tbody>\n",
              "    <tr>\n",
              "      <th>1361</th>\n",
              "      <td>how to heal hemorrhoids fast</td>\n",
              "      <td>at a donald trump rally in north carolina a pr...</td>\n",
              "      <td>1.0</td>\n",
              "    </tr>\n",
              "  </tbody>\n",
              "</table>\n",
              "</div>\n",
              "    <div class=\"colab-df-buttons\">\n",
              "\n",
              "  <div class=\"colab-df-container\">\n",
              "    <button class=\"colab-df-convert\" onclick=\"convertToInteractive('df-fdb9c709-54ac-43d3-8ba6-7973872ce1c6')\"\n",
              "            title=\"Convert this dataframe to an interactive table.\"\n",
              "            style=\"display:none;\">\n",
              "\n",
              "  <svg xmlns=\"http://www.w3.org/2000/svg\" height=\"24px\" viewBox=\"0 -960 960 960\">\n",
              "    <path d=\"M120-120v-720h720v720H120Zm60-500h600v-160H180v160Zm220 220h160v-160H400v160Zm0 220h160v-160H400v160ZM180-400h160v-160H180v160Zm440 0h160v-160H620v160ZM180-180h160v-160H180v160Zm440 0h160v-160H620v160Z\"/>\n",
              "  </svg>\n",
              "    </button>\n",
              "\n",
              "  <style>\n",
              "    .colab-df-container {\n",
              "      display:flex;\n",
              "      gap: 12px;\n",
              "    }\n",
              "\n",
              "    .colab-df-convert {\n",
              "      background-color: #E8F0FE;\n",
              "      border: none;\n",
              "      border-radius: 50%;\n",
              "      cursor: pointer;\n",
              "      display: none;\n",
              "      fill: #1967D2;\n",
              "      height: 32px;\n",
              "      padding: 0 0 0 0;\n",
              "      width: 32px;\n",
              "    }\n",
              "\n",
              "    .colab-df-convert:hover {\n",
              "      background-color: #E2EBFA;\n",
              "      box-shadow: 0px 1px 2px rgba(60, 64, 67, 0.3), 0px 1px 3px 1px rgba(60, 64, 67, 0.15);\n",
              "      fill: #174EA6;\n",
              "    }\n",
              "\n",
              "    .colab-df-buttons div {\n",
              "      margin-bottom: 4px;\n",
              "    }\n",
              "\n",
              "    [theme=dark] .colab-df-convert {\n",
              "      background-color: #3B4455;\n",
              "      fill: #D2E3FC;\n",
              "    }\n",
              "\n",
              "    [theme=dark] .colab-df-convert:hover {\n",
              "      background-color: #434B5C;\n",
              "      box-shadow: 0px 1px 3px 1px rgba(0, 0, 0, 0.15);\n",
              "      filter: drop-shadow(0px 1px 2px rgba(0, 0, 0, 0.3));\n",
              "      fill: #FFFFFF;\n",
              "    }\n",
              "  </style>\n",
              "\n",
              "    <script>\n",
              "      const buttonEl =\n",
              "        document.querySelector('#df-fdb9c709-54ac-43d3-8ba6-7973872ce1c6 button.colab-df-convert');\n",
              "      buttonEl.style.display =\n",
              "        google.colab.kernel.accessAllowed ? 'block' : 'none';\n",
              "\n",
              "      async function convertToInteractive(key) {\n",
              "        const element = document.querySelector('#df-fdb9c709-54ac-43d3-8ba6-7973872ce1c6');\n",
              "        const dataTable =\n",
              "          await google.colab.kernel.invokeFunction('convertToInteractive',\n",
              "                                                    [key], {});\n",
              "        if (!dataTable) return;\n",
              "\n",
              "        const docLinkHtml = 'Like what you see? Visit the ' +\n",
              "          '<a target=\"_blank\" href=https://colab.research.google.com/notebooks/data_table.ipynb>data table notebook</a>'\n",
              "          + ' to learn more about interactive tables.';\n",
              "        element.innerHTML = '';\n",
              "        dataTable['output_type'] = 'display_data';\n",
              "        await google.colab.output.renderOutput(dataTable, element);\n",
              "        const docLink = document.createElement('div');\n",
              "        docLink.innerHTML = docLinkHtml;\n",
              "        element.appendChild(docLink);\n",
              "      }\n",
              "    </script>\n",
              "  </div>\n",
              "\n",
              "    </div>\n",
              "  </div>\n"
            ]
          },
          "metadata": {},
          "execution_count": 11
        }
      ]
    },
    {
      "cell_type": "markdown",
      "source": [
        "#### Final Data Cleaning: Removing Rows with NaN Values\n",
        "\n",
        "In the final stage of data cleaning, we remove rows containing NaN values from the remaining relevant columns. The size of our dataset allows us to make this decision without significantly impacting the amount of data available for training. This step is crucial for improving data quality and ensuring reliable model performance.\n"
      ],
      "metadata": {
        "id": "tznDPHgOIy0H"
      },
      "id": "tznDPHgOIy0H"
    },
    {
      "cell_type": "code",
      "source": [
        "# Removing rows with NaN values (axis=0 for rows)\n",
        "df_reduced = df_reduced.dropna(axis=0)\n",
        "\n",
        "# Displaying the count of NaN values after cleaning\n",
        "print(f'Number of NaN values in the entire CSV: {df_reduced.isna().sum()}\\n\\n')\n",
        "\n",
        "# Displaying the number of rows after cleaning\n",
        "print(f'Number of rows in the CSV: {len(df_reduced)}\\n\\n')\n"
      ],
      "metadata": {
        "id": "N0N0h6CdPYLe",
        "colab": {
          "base_uri": "https://localhost:8080/"
        },
        "outputId": "65df0577-6ad5-4b3e-d533-0644a472f7f6"
      },
      "id": "N0N0h6CdPYLe",
      "execution_count": 12,
      "outputs": [
        {
          "output_type": "stream",
          "name": "stdout",
          "text": [
            "Number of NaN values in the entire CSV: title    0\n",
            "text     0\n",
            "label    0\n",
            "dtype: int64\n",
            "\n",
            "\n",
            "Number of rows in the CSV: 2050\n",
            "\n",
            "\n"
          ]
        }
      ]
    },
    {
      "cell_type": "markdown",
      "source": [
        "# **3. Preprocessing**\n",
        "Preprocessing is a critical step in text analysis, especially for NLP (Natural Language Processing) tasks. It involves preparing and cleaning text data to make it suitable for modeling. Key preprocessing steps include removing stopwords, normalizing, and lemmatizing the text.\n",
        "\n"
      ],
      "metadata": {
        "id": "DJnBbxZtJWri"
      },
      "id": "DJnBbxZtJWri"
    },
    {
      "cell_type": "markdown",
      "source": [
        "####Removing Stopwords\n",
        "Stopwords are commonly used words (such as \"the\", \"is\", \"in\") that are excluded in the processing of text data. They are removed because they typically do not contribute to the understanding of the content and can reduce the model's performance by introducing noise.\n"
      ],
      "metadata": {
        "id": "OOzKfd7vRuR1"
      },
      "id": "OOzKfd7vRuR1"
    },
    {
      "cell_type": "code",
      "source": [
        "sns.set_theme()\n",
        "\n",
        "# Load stopwords\n",
        "nltk.download('stopwords')\n",
        "nltk.download('punkt')\n",
        "stop_words = set(stopwords.words('english'))\n",
        "\n",
        "nlp = spacy.load('en_core_web_sm')\n",
        "\n",
        "def remove_stopwords(text):\n",
        "    word_tokens = word_tokenize(text)\n",
        "    filtered_text = [word for word in word_tokens if word.lower() not in stop_words]\n",
        "    return ' '.join(filtered_text)\n",
        "\n",
        "# Remove stopwords and save the cleaned texts\n",
        "df_reduced['title_cleaned'] = df_reduced['title'].apply(remove_stopwords)\n",
        "df_reduced['text_cleaned'] = df_reduced['text'].apply(remove_stopwords)\n",
        "\n",
        "# Check the changes\n",
        "print(df_reduced[['title_cleaned', 'text_cleaned']])\n"
      ],
      "metadata": {
        "id": "A3VMjusd6ahe",
        "colab": {
          "base_uri": "https://localhost:8080/"
        },
        "outputId": "482d2f58-5f13-49c8-9aac-6665652b309c"
      },
      "id": "A3VMjusd6ahe",
      "execution_count": 13,
      "outputs": [
        {
          "output_type": "stream",
          "name": "stderr",
          "text": [
            "[nltk_data] Downloading package stopwords to /root/nltk_data...\n",
            "[nltk_data]   Unzipping corpora/stopwords.zip.\n",
            "[nltk_data] Downloading package punkt to /root/nltk_data...\n",
            "[nltk_data]   Unzipping tokenizers/punkt.zip.\n"
          ]
        },
        {
          "output_type": "stream",
          "name": "stdout",
          "text": [
            "                                          title_cleaned  \\\n",
            "0           muslims busted stole millions govt benefits   \n",
            "1            attorney general loretta lynch plead fifth   \n",
            "2     breaking weiner cooperating fbi hillary email ...   \n",
            "3     pin drop speech father daughter kidnapped kill...   \n",
            "4     fantastic trumps point plan reform healthcare ...   \n",
            "...                                                 ...   \n",
            "2045                  trump vs clinton risk vs disaster   \n",
            "2046                    gingrich slutshames megyn kelly   \n",
            "2047                    youtube bans clintons black son   \n",
            "2048             wikileaks bombshells hillary need know   \n",
            "2049                                     fascinated sex   \n",
            "\n",
            "                                           text_cleaned  \n",
            "0     print pay back money plus interest entire fami...  \n",
            "1     attorney general loretta lynch plead fifth bar...  \n",
            "2     red state fox news sunday reported morning ant...  \n",
            "3     email kayla mueller prisoner tortured isis cha...  \n",
            "4     email healthcare reform make america great sin...  \n",
            "...                                                 ...  \n",
            "2045  check hillarythemed haunted house anticlinton ...  \n",
            "2046  good samaritan wearing indian headdress disarm...  \n",
            "2047  skype sex scam fortune built shame moroccan bo...  \n",
            "2048  posted eddie skyhigh potency may scare away cr...  \n",
            "2049  billion even known keeping supposedly deleted ...  \n",
            "\n",
            "[2050 rows x 2 columns]\n"
          ]
        }
      ]
    },
    {
      "cell_type": "markdown",
      "source": [
        "**Note on Cleaned Texts**\n",
        "The cleaned texts are not stored in the original 'title' and 'text' columns. Instead, new columns 'title_cleaned' and 'text_cleaned' are created. This allows us to maintain the original text for reference while using the cleaned text for analysis. Consequently, the original 'title' and 'text' columns will be dropped from the dataset.\n"
      ],
      "metadata": {
        "id": "RKiZHJh7IxB8"
      },
      "id": "RKiZHJh7IxB8"
    },
    {
      "cell_type": "code",
      "source": [
        "print(\"New columns:\")\n",
        "df_reduced.head(1)"
      ],
      "metadata": {
        "colab": {
          "base_uri": "https://localhost:8080/",
          "height": 98
        },
        "id": "racLZD7j9wsm",
        "outputId": "12339241-e352-4d00-f7be-31054d788720"
      },
      "id": "racLZD7j9wsm",
      "execution_count": 16,
      "outputs": [
        {
          "output_type": "stream",
          "name": "stdout",
          "text": [
            "New columns:\n"
          ]
        },
        {
          "output_type": "execute_result",
          "data": {
            "text/plain": [
              "   label                                title_cleaned  \\\n",
              "0    0.0  muslims busted stole millions govt benefits   \n",
              "\n",
              "                                        text_cleaned  \n",
              "0  print pay back money plus interest entire fami...  "
            ],
            "text/html": [
              "\n",
              "  <div id=\"df-dfba6b27-84f8-4e89-8fed-79b9d6593d1b\" class=\"colab-df-container\">\n",
              "    <div>\n",
              "<style scoped>\n",
              "    .dataframe tbody tr th:only-of-type {\n",
              "        vertical-align: middle;\n",
              "    }\n",
              "\n",
              "    .dataframe tbody tr th {\n",
              "        vertical-align: top;\n",
              "    }\n",
              "\n",
              "    .dataframe thead th {\n",
              "        text-align: right;\n",
              "    }\n",
              "</style>\n",
              "<table border=\"1\" class=\"dataframe\">\n",
              "  <thead>\n",
              "    <tr style=\"text-align: right;\">\n",
              "      <th></th>\n",
              "      <th>label</th>\n",
              "      <th>title_cleaned</th>\n",
              "      <th>text_cleaned</th>\n",
              "    </tr>\n",
              "  </thead>\n",
              "  <tbody>\n",
              "    <tr>\n",
              "      <th>0</th>\n",
              "      <td>0.0</td>\n",
              "      <td>muslims busted stole millions govt benefits</td>\n",
              "      <td>print pay back money plus interest entire fami...</td>\n",
              "    </tr>\n",
              "  </tbody>\n",
              "</table>\n",
              "</div>\n",
              "    <div class=\"colab-df-buttons\">\n",
              "\n",
              "  <div class=\"colab-df-container\">\n",
              "    <button class=\"colab-df-convert\" onclick=\"convertToInteractive('df-dfba6b27-84f8-4e89-8fed-79b9d6593d1b')\"\n",
              "            title=\"Convert this dataframe to an interactive table.\"\n",
              "            style=\"display:none;\">\n",
              "\n",
              "  <svg xmlns=\"http://www.w3.org/2000/svg\" height=\"24px\" viewBox=\"0 -960 960 960\">\n",
              "    <path d=\"M120-120v-720h720v720H120Zm60-500h600v-160H180v160Zm220 220h160v-160H400v160Zm0 220h160v-160H400v160ZM180-400h160v-160H180v160Zm440 0h160v-160H620v160ZM180-180h160v-160H180v160Zm440 0h160v-160H620v160Z\"/>\n",
              "  </svg>\n",
              "    </button>\n",
              "\n",
              "  <style>\n",
              "    .colab-df-container {\n",
              "      display:flex;\n",
              "      gap: 12px;\n",
              "    }\n",
              "\n",
              "    .colab-df-convert {\n",
              "      background-color: #E8F0FE;\n",
              "      border: none;\n",
              "      border-radius: 50%;\n",
              "      cursor: pointer;\n",
              "      display: none;\n",
              "      fill: #1967D2;\n",
              "      height: 32px;\n",
              "      padding: 0 0 0 0;\n",
              "      width: 32px;\n",
              "    }\n",
              "\n",
              "    .colab-df-convert:hover {\n",
              "      background-color: #E2EBFA;\n",
              "      box-shadow: 0px 1px 2px rgba(60, 64, 67, 0.3), 0px 1px 3px 1px rgba(60, 64, 67, 0.15);\n",
              "      fill: #174EA6;\n",
              "    }\n",
              "\n",
              "    .colab-df-buttons div {\n",
              "      margin-bottom: 4px;\n",
              "    }\n",
              "\n",
              "    [theme=dark] .colab-df-convert {\n",
              "      background-color: #3B4455;\n",
              "      fill: #D2E3FC;\n",
              "    }\n",
              "\n",
              "    [theme=dark] .colab-df-convert:hover {\n",
              "      background-color: #434B5C;\n",
              "      box-shadow: 0px 1px 3px 1px rgba(0, 0, 0, 0.15);\n",
              "      filter: drop-shadow(0px 1px 2px rgba(0, 0, 0, 0.3));\n",
              "      fill: #FFFFFF;\n",
              "    }\n",
              "  </style>\n",
              "\n",
              "    <script>\n",
              "      const buttonEl =\n",
              "        document.querySelector('#df-dfba6b27-84f8-4e89-8fed-79b9d6593d1b button.colab-df-convert');\n",
              "      buttonEl.style.display =\n",
              "        google.colab.kernel.accessAllowed ? 'block' : 'none';\n",
              "\n",
              "      async function convertToInteractive(key) {\n",
              "        const element = document.querySelector('#df-dfba6b27-84f8-4e89-8fed-79b9d6593d1b');\n",
              "        const dataTable =\n",
              "          await google.colab.kernel.invokeFunction('convertToInteractive',\n",
              "                                                    [key], {});\n",
              "        if (!dataTable) return;\n",
              "\n",
              "        const docLinkHtml = 'Like what you see? Visit the ' +\n",
              "          '<a target=\"_blank\" href=https://colab.research.google.com/notebooks/data_table.ipynb>data table notebook</a>'\n",
              "          + ' to learn more about interactive tables.';\n",
              "        element.innerHTML = '';\n",
              "        dataTable['output_type'] = 'display_data';\n",
              "        await google.colab.output.renderOutput(dataTable, element);\n",
              "        const docLink = document.createElement('div');\n",
              "        docLink.innerHTML = docLinkHtml;\n",
              "        element.appendChild(docLink);\n",
              "      }\n",
              "    </script>\n",
              "  </div>\n",
              "\n",
              "    </div>\n",
              "  </div>\n"
            ]
          },
          "metadata": {},
          "execution_count": 16
        }
      ]
    },
    {
      "cell_type": "code",
      "source": [
        "# Dropping unnecessary columns\n",
        "df_reduced = df_reduced.drop(columns=['title', 'text','author', 'published', 'language', 'site_url', 'main_img_url', 'title_without_stopwords', 'text_without_stopwords', 'hasImage'], errors='ignore')\n",
        "\n",
        "print(\"New df_reduced:\")\n",
        "df_reduced.head(1)\n"
      ],
      "metadata": {
        "colab": {
          "base_uri": "https://localhost:8080/",
          "height": 98
        },
        "id": "Xy8vH5UKJ6QO",
        "outputId": "235707ba-75cf-4505-82b6-1940104d622e"
      },
      "id": "Xy8vH5UKJ6QO",
      "execution_count": 17,
      "outputs": [
        {
          "output_type": "stream",
          "name": "stdout",
          "text": [
            "New df_reduced:\n"
          ]
        },
        {
          "output_type": "execute_result",
          "data": {
            "text/plain": [
              "   label                                title_cleaned  \\\n",
              "0    0.0  muslims busted stole millions govt benefits   \n",
              "\n",
              "                                        text_cleaned  \n",
              "0  print pay back money plus interest entire fami...  "
            ],
            "text/html": [
              "\n",
              "  <div id=\"df-4f975db2-3286-4287-a3d8-a1a5e66598f0\" class=\"colab-df-container\">\n",
              "    <div>\n",
              "<style scoped>\n",
              "    .dataframe tbody tr th:only-of-type {\n",
              "        vertical-align: middle;\n",
              "    }\n",
              "\n",
              "    .dataframe tbody tr th {\n",
              "        vertical-align: top;\n",
              "    }\n",
              "\n",
              "    .dataframe thead th {\n",
              "        text-align: right;\n",
              "    }\n",
              "</style>\n",
              "<table border=\"1\" class=\"dataframe\">\n",
              "  <thead>\n",
              "    <tr style=\"text-align: right;\">\n",
              "      <th></th>\n",
              "      <th>label</th>\n",
              "      <th>title_cleaned</th>\n",
              "      <th>text_cleaned</th>\n",
              "    </tr>\n",
              "  </thead>\n",
              "  <tbody>\n",
              "    <tr>\n",
              "      <th>0</th>\n",
              "      <td>0.0</td>\n",
              "      <td>muslims busted stole millions govt benefits</td>\n",
              "      <td>print pay back money plus interest entire fami...</td>\n",
              "    </tr>\n",
              "  </tbody>\n",
              "</table>\n",
              "</div>\n",
              "    <div class=\"colab-df-buttons\">\n",
              "\n",
              "  <div class=\"colab-df-container\">\n",
              "    <button class=\"colab-df-convert\" onclick=\"convertToInteractive('df-4f975db2-3286-4287-a3d8-a1a5e66598f0')\"\n",
              "            title=\"Convert this dataframe to an interactive table.\"\n",
              "            style=\"display:none;\">\n",
              "\n",
              "  <svg xmlns=\"http://www.w3.org/2000/svg\" height=\"24px\" viewBox=\"0 -960 960 960\">\n",
              "    <path d=\"M120-120v-720h720v720H120Zm60-500h600v-160H180v160Zm220 220h160v-160H400v160Zm0 220h160v-160H400v160ZM180-400h160v-160H180v160Zm440 0h160v-160H620v160ZM180-180h160v-160H180v160Zm440 0h160v-160H620v160Z\"/>\n",
              "  </svg>\n",
              "    </button>\n",
              "\n",
              "  <style>\n",
              "    .colab-df-container {\n",
              "      display:flex;\n",
              "      gap: 12px;\n",
              "    }\n",
              "\n",
              "    .colab-df-convert {\n",
              "      background-color: #E8F0FE;\n",
              "      border: none;\n",
              "      border-radius: 50%;\n",
              "      cursor: pointer;\n",
              "      display: none;\n",
              "      fill: #1967D2;\n",
              "      height: 32px;\n",
              "      padding: 0 0 0 0;\n",
              "      width: 32px;\n",
              "    }\n",
              "\n",
              "    .colab-df-convert:hover {\n",
              "      background-color: #E2EBFA;\n",
              "      box-shadow: 0px 1px 2px rgba(60, 64, 67, 0.3), 0px 1px 3px 1px rgba(60, 64, 67, 0.15);\n",
              "      fill: #174EA6;\n",
              "    }\n",
              "\n",
              "    .colab-df-buttons div {\n",
              "      margin-bottom: 4px;\n",
              "    }\n",
              "\n",
              "    [theme=dark] .colab-df-convert {\n",
              "      background-color: #3B4455;\n",
              "      fill: #D2E3FC;\n",
              "    }\n",
              "\n",
              "    [theme=dark] .colab-df-convert:hover {\n",
              "      background-color: #434B5C;\n",
              "      box-shadow: 0px 1px 3px 1px rgba(0, 0, 0, 0.15);\n",
              "      filter: drop-shadow(0px 1px 2px rgba(0, 0, 0, 0.3));\n",
              "      fill: #FFFFFF;\n",
              "    }\n",
              "  </style>\n",
              "\n",
              "    <script>\n",
              "      const buttonEl =\n",
              "        document.querySelector('#df-4f975db2-3286-4287-a3d8-a1a5e66598f0 button.colab-df-convert');\n",
              "      buttonEl.style.display =\n",
              "        google.colab.kernel.accessAllowed ? 'block' : 'none';\n",
              "\n",
              "      async function convertToInteractive(key) {\n",
              "        const element = document.querySelector('#df-4f975db2-3286-4287-a3d8-a1a5e66598f0');\n",
              "        const dataTable =\n",
              "          await google.colab.kernel.invokeFunction('convertToInteractive',\n",
              "                                                    [key], {});\n",
              "        if (!dataTable) return;\n",
              "\n",
              "        const docLinkHtml = 'Like what you see? Visit the ' +\n",
              "          '<a target=\"_blank\" href=https://colab.research.google.com/notebooks/data_table.ipynb>data table notebook</a>'\n",
              "          + ' to learn more about interactive tables.';\n",
              "        element.innerHTML = '';\n",
              "        dataTable['output_type'] = 'display_data';\n",
              "        await google.colab.output.renderOutput(dataTable, element);\n",
              "        const docLink = document.createElement('div');\n",
              "        docLink.innerHTML = docLinkHtml;\n",
              "        element.appendChild(docLink);\n",
              "      }\n",
              "    </script>\n",
              "  </div>\n",
              "\n",
              "    </div>\n",
              "  </div>\n"
            ]
          },
          "metadata": {},
          "execution_count": 17
        }
      ]
    },
    {
      "cell_type": "markdown",
      "source": [
        "**Text Normalization**\n",
        "Text normalization involves converting text to a more consistent and standard form. This is important in NLP to reduce the complexity of the text and to bring uniformity. The process typically includes converting all characters to lowercase, removing special characters and numbers, and reducing multiple spaces to a single space.\n"
      ],
      "metadata": {
        "id": "v-gzFBKsTx0l"
      },
      "id": "v-gzFBKsTx0l"
    },
    {
      "cell_type": "code",
      "source": [
        "# Function for text normalization\n",
        "def normalize_text(text):\n",
        "    text = text.lower()  # Convert to lowercase\n",
        "    text = re.sub(r'[^a-zäöüß]', ' ', text)  # Remove special characters and numbers\n",
        "    text = re.sub(r'\\s+', ' ', text).strip()  # Remove multiple spaces\n",
        "    return text\n",
        "\n",
        "# Apply the normalization function to the desired columns\n",
        "df_reduced['title_cleaned'] = df_reduced['title_cleaned'].apply(normalize_text)\n",
        "df_reduced['text_cleaned'] = df_reduced['text_cleaned'].apply(normalize_text)\n",
        "\n",
        "# Display the first few rows of the DataFrame for verification\n",
        "print(df_reduced.head())\n"
      ],
      "metadata": {
        "colab": {
          "base_uri": "https://localhost:8080/"
        },
        "id": "iR9e5wgeXh-u",
        "outputId": "354427c8-6709-4155-b06c-e31cc5e88309"
      },
      "id": "iR9e5wgeXh-u",
      "execution_count": 18,
      "outputs": [
        {
          "output_type": "stream",
          "name": "stdout",
          "text": [
            "   label                                      title_cleaned  \\\n",
            "0    0.0        muslims busted stole millions govt benefits   \n",
            "1    0.0         attorney general loretta lynch plead fifth   \n",
            "2    0.0  breaking weiner cooperating fbi hillary email ...   \n",
            "3    0.0  pin drop speech father daughter kidnapped kill...   \n",
            "4    0.0  fantastic trumps point plan reform healthcare ...   \n",
            "\n",
            "                                        text_cleaned  \n",
            "0  print pay back money plus interest entire fami...  \n",
            "1  attorney general loretta lynch plead fifth bar...  \n",
            "2  red state fox news sunday reported morning ant...  \n",
            "3  email kayla mueller prisoner tortured isis cha...  \n",
            "4  email healthcare reform make america great sin...  \n"
          ]
        }
      ]
    },
    {
      "cell_type": "markdown",
      "source": [
        "**Lemmatization**\n",
        "Lemmatization is the process of converting words to their base or root form. This step is crucial in NLP as it helps in reducing the inflectional forms of each word, thereby simplifying the analysis. For instance, \"running\", \"ran\", and \"runs\" would all be converted to their lemma \"run\". This process aids in standardizing words for better comparison and analysis.\n"
      ],
      "metadata": {
        "id": "CS8VHTdUEmAO"
      },
      "id": "CS8VHTdUEmAO"
    },
    {
      "cell_type": "code",
      "source": [
        "# Function for lemmatizing text\n",
        "def lemmatize_text(text):\n",
        "    doc = nlp(text)  # Create a spaCy document\n",
        "    lemmatized_text = ' '.join([token.lemma_ for token in doc])  # Lemmatize each token\n",
        "    return lemmatized_text\n",
        "\n",
        "# Apply the lemmatization function to the desired columns\n",
        "df_reduced['title_cleaned'] = df_reduced['title_cleaned'].apply(lemmatize_text)\n",
        "df_reduced['text_cleaned'] = df_reduced['text_cleaned'].apply(lemmatize_text)\n",
        "\n",
        "# Display the first few rows of the DataFrame for verification\n",
        "print(df_reduced.head())\n"
      ],
      "metadata": {
        "colab": {
          "base_uri": "https://localhost:8080/"
        },
        "id": "5IPLOPlrciKb",
        "outputId": "c5fb1491-2964-40a8-cd36-a99224613325"
      },
      "id": "5IPLOPlrciKb",
      "execution_count": 19,
      "outputs": [
        {
          "output_type": "stream",
          "name": "stdout",
          "text": [
            "   label                                      title_cleaned  \\\n",
            "0    0.0             muslim bust stole million govt benefit   \n",
            "1    0.0         attorney general loretta lynch plead fifth   \n",
            "2    0.0  break weiner cooperate fbi hillary email inves...   \n",
            "3    0.0  pin drop speech father daughter kidnap kill is...   \n",
            "4    0.0  fantastic trump point plan reform healthcare b...   \n",
            "\n",
            "                                        text_cleaned  \n",
            "0  print pay back money plus interest entire fami...  \n",
            "1  attorney general loretta lynch plead fifth bar...  \n",
            "2  red state fox news sunday report morning antho...  \n",
            "3  email kayla mueller prisoner torture isis chan...  \n",
            "4  email healthcare reform make america great sin...  \n"
          ]
        }
      ]
    },
    {
      "cell_type": "markdown",
      "source": [
        "**TF-IDF Vectorization**\n",
        "The final step in preprocessing is TF-IDF (Term Frequency-Inverse Document Frequency) vectorization. This technique transforms the cleaned text into numerical values, representing the importance of each word in the context of the document. TF-IDF is particularly useful in highlighting the most relevant words in each document, making it a powerful tool for tasks like classification.\n"
      ],
      "metadata": {
        "id": "DaFeAO4HFw77"
      },
      "id": "DaFeAO4HFw77"
    },
    {
      "cell_type": "code",
      "source": [
        "# TF-IDF vectorization\n",
        "tfidf_cleaned = TfidfVectorizer(max_features=5000)\n"
      ],
      "metadata": {
        "id": "4bv-lFGJFajV"
      },
      "id": "4bv-lFGJFajV",
      "execution_count": 20,
      "outputs": []
    },
    {
      "cell_type": "markdown",
      "source": [
        "# **4. Training Standard Models**\n",
        "\n",
        "This section is dedicated to training and evaluating several standard machine learning models. We employ popular algorithms like Naive Bayes, Random Forest, XGBoost, and AdaBoost to predict whether news articles are fake or real. The process includes splitting the data, training each model, and evaluating their performance based on accuracy and recall.\n"
      ],
      "metadata": {
        "id": "qIsB_c6NFAuy"
      },
      "id": "qIsB_c6NFAuy"
    },
    {
      "cell_type": "code",
      "source": [
        "# Function to train models and store results\n",
        "def train_and_evaluate(X, y):\n",
        "    # Splitting data into training and testing sets\n",
        "    X_train, X_test, y_train, y_test = train_test_split(X, y, test_size=0.2, random_state=42)\n",
        "    # Dictionary to store results\n",
        "    results = {}\n",
        "\n",
        "    # Naive Bayes Classifier\n",
        "    nb_classifier = MultinomialNB()\n",
        "    nb_classifier.fit(X_train, y_train)\n",
        "    nb_predictions = nb_classifier.predict(X_test)\n",
        "    results['Naive Bayes'] = {\n",
        "        'accuracy': accuracy_score(y_test, nb_predictions),\n",
        "        'report': classification_report(y_test, nb_predictions)\n",
        "    }\n",
        "\n",
        "    # Random Forest Classifier\n",
        "    rf_classifier = RandomForestClassifier(n_estimators=100, random_state=42)\n",
        "    rf_classifier.fit(X_train, y_train)\n",
        "    rf_predictions = rf_classifier.predict(X_test)\n",
        "    results['Random Forest'] = {\n",
        "        'accuracy': accuracy_score(y_test, rf_predictions),\n",
        "        'report': classification_report(y_test, rf_predictions)\n",
        "    }\n",
        "\n",
        "    # XGBoost Classifier\n",
        "    xgb_classifier = XGBClassifier(use_label_encoder=False, eval_metric='logloss')\n",
        "    xgb_classifier.fit(X_train, y_train)\n",
        "    xgb_predictions = xgb_classifier.predict(X_test)\n",
        "    results['XGBoost'] = {\n",
        "        'accuracy': accuracy_score(y_test, xgb_predictions),\n",
        "        'report': classification_report(y_test, xgb_predictions)\n",
        "    }\n",
        "\n",
        "    # AdaBoost Classifier\n",
        "    adab_classifier = AdaBoostClassifier(DecisionTreeClassifier(max_depth=10), n_estimators=5, random_state=1)\n",
        "    adab_classifier.fit(X_train, y_train)\n",
        "    adab_predictions = adab_classifier.predict(X_test)\n",
        "    results['AdaBoost'] = {\n",
        "        'accuracy': accuracy_score(y_test, adab_predictions),\n",
        "        'report': classification_report(y_test, adab_predictions)\n",
        "    }\n",
        "\n",
        "    return results\n",
        "\n",
        "# Combining title and text into a new column\n",
        "df_reduced['combined_text'] = df_reduced['title_cleaned'] + \" \" + df_reduced['text_cleaned']\n",
        "# Applying TfidfVectorizer to the combined column\n",
        "X_cleaned = tfidf_cleaned.fit_transform(df_reduced['combined_text']).toarray()\n",
        "results_cleaned = train_and_evaluate(X_cleaned, df_reduced['label'])\n",
        "# Combining results into a dictionary\n",
        "final_results = {'tfidf_cleaned': results_cleaned}\n",
        "\n",
        "# Print formatted results\n",
        "def print_formatted_results(results):\n",
        "    for tfidf_key, models_results in results.items():\n",
        "        print(f\"Results for {tfidf_key}:\\n\")\n",
        "        for model_name, model_results in models_results.items():\n",
        "            print(f\"Model: {model_name}\")\n",
        "            print(f\"Accuracy: {model_results['accuracy']}\")\n",
        "            print(\"Classificationreport:\")\n",
        "            print(model_results['report'])\n",
        "            print(\"-\" * 50)\n",
        "        print(\"=\" * 100)\n",
        "\n",
        "print_formatted_results(final_results)"
      ],
      "metadata": {
        "id": "aLdJUel2Y7zv",
        "colab": {
          "base_uri": "https://localhost:8080/"
        },
        "outputId": "0dc681fa-4f1f-4ec2-cf40-db16229b6a15"
      },
      "id": "aLdJUel2Y7zv",
      "execution_count": 25,
      "outputs": [
        {
          "output_type": "stream",
          "name": "stdout",
          "text": [
            "Results for tfidf_cleaned:\n",
            "\n",
            "Modell: Naive Bayes\n",
            "Accuracy: 0.7073170731707317\n",
            "Classificationreport:\n",
            "              precision    recall  f1-score   support\n",
            "\n",
            "         0.0       0.77      0.37      0.50       161\n",
            "         1.0       0.69      0.93      0.79       249\n",
            "\n",
            "    accuracy                           0.71       410\n",
            "   macro avg       0.73      0.65      0.64       410\n",
            "weighted avg       0.72      0.71      0.68       410\n",
            "\n",
            "--------------------------------------------------\n",
            "Modell: Random Forest\n",
            "Accuracy: 0.802439024390244\n",
            "Classificationreport:\n",
            "              precision    recall  f1-score   support\n",
            "\n",
            "         0.0       0.82      0.63      0.72       161\n",
            "         1.0       0.79      0.91      0.85       249\n",
            "\n",
            "    accuracy                           0.80       410\n",
            "   macro avg       0.81      0.77      0.78       410\n",
            "weighted avg       0.81      0.80      0.80       410\n",
            "\n",
            "--------------------------------------------------\n",
            "Modell: XGBoost\n",
            "Accuracy: 0.7926829268292683\n",
            "Classificationreport:\n",
            "              precision    recall  f1-score   support\n",
            "\n",
            "         0.0       0.77      0.68      0.72       161\n",
            "         1.0       0.81      0.87      0.84       249\n",
            "\n",
            "    accuracy                           0.79       410\n",
            "   macro avg       0.79      0.77      0.78       410\n",
            "weighted avg       0.79      0.79      0.79       410\n",
            "\n",
            "--------------------------------------------------\n",
            "Modell: AdaBoost\n",
            "Accuracy: 0.697560975609756\n",
            "Classificationreport:\n",
            "              precision    recall  f1-score   support\n",
            "\n",
            "         0.0       0.63      0.55      0.59       161\n",
            "         1.0       0.73      0.80      0.76       249\n",
            "\n",
            "    accuracy                           0.70       410\n",
            "   macro avg       0.68      0.67      0.67       410\n",
            "weighted avg       0.69      0.70      0.69       410\n",
            "\n",
            "--------------------------------------------------\n",
            "====================================================================================================\n"
          ]
        }
      ]
    },
    {
      "cell_type": "markdown",
      "source": [
        "#### Optimizing Models with Grid Search\n",
        "\n",
        "To enhance the performance of our models, we use GridSearchCV, a method for tuning hyperparameters. This technique systematically works through multiple combinations of parameter values, cross-validating as it goes to determine the best combination for optimal model performance. We apply this method to each of our models: Naive Bayes, Random Forest, XGBoost, and AdaBoost.\n"
      ],
      "metadata": {
        "id": "rGdolBDdRIle"
      },
      "id": "rGdolBDdRIle"
    },
    {
      "cell_type": "code",
      "source": [
        "# Define parameter grids for each model\n",
        "nb_param_grid = {'alpha': [0.01, 0.1, 1]}\n",
        "rf_param_grid = {\n",
        "    'n_estimators': [10, 50, 100],\n",
        "    'max_depth': [None, 10, 20],\n",
        "    'min_samples_split': [2, 5, 10]\n",
        "}\n",
        "xgb_param_grid = {\n",
        "    'n_estimators': [100, 200],\n",
        "    'learning_rate': [0.01, 0.1],\n",
        "    'max_depth': [3, 5, 7]\n",
        "}\n",
        "adab_param_grid = {\n",
        "    'n_estimators': [50, 100, 200],\n",
        "    'learning_rate': [0.01, 0.1, 1],\n",
        "    'base_estimator__max_depth': [1, 2, 3]\n",
        "}\n"
      ],
      "metadata": {
        "id": "MB3O4Ue9RF51"
      },
      "id": "MB3O4Ue9RF51",
      "execution_count": 26,
      "outputs": []
    },
    {
      "cell_type": "code",
      "source": [
        "# Splitting the data for GridSearch\n",
        "X_cleaned = tfidf_cleaned.fit_transform(df_reduced['combined_text']).toarray()\n",
        "X_train_gs, X_test_gs, y_train_gs, y_test_gs = train_test_split(X_cleaned, df_reduced['label'], test_size=0.2, random_state=42)\n"
      ],
      "metadata": {
        "id": "HPveKHCOWHvX"
      },
      "id": "HPveKHCOWHvX",
      "execution_count": 28,
      "outputs": []
    },
    {
      "cell_type": "markdown",
      "source": [
        " Conduct GridSearchCV for each model"
      ],
      "metadata": {
        "id": "UOb9trDNRw9M"
      },
      "id": "UOb9trDNRw9M"
    },
    {
      "cell_type": "code",
      "source": [
        "# Naive Bayes\n",
        "nb_grid_search = GridSearchCV(MultinomialNB(), nb_param_grid, cv=5, scoring='recall')\n",
        "nb_grid_search.fit(X_train_gs, y_train_gs)\n",
        "best_nb = nb_grid_search.best_estimator_\n",
        "\n",
        "# Random Forest\n",
        "rf_grid_search = GridSearchCV(RandomForestClassifier(random_state=42), rf_param_grid, cv=5, scoring='recall')\n",
        "rf_grid_search.fit(X_train_gs, y_train_gs)\n",
        "best_rf = rf_grid_search.best_estimator_\n",
        "\n",
        "# XGBoost\n",
        "xgb_grid_search = GridSearchCV(XGBClassifier(use_label_encoder=False, eval_metric='logloss'), xgb_param_grid, cv=5, scoring='recall')\n",
        "xgb_grid_search.fit(X_train_gs, y_train_gs)\n",
        "best_xgb = xgb_grid_search.best_estimator_\n",
        "\n",
        "\n",
        "# Ada Boost\n",
        "adab_base_estimator = DecisionTreeClassifier(random_state=42)\n",
        "adab_grid_search = GridSearchCV(AdaBoostClassifier(estimator=adab_base_estimator, random_state=42), adab_param_grid, cv=5, scoring='recall')\n",
        "adab_grid_search.fit(X_train_gs, y_train_gs)\n",
        "best_adab = adab_grid_search.best_estimator_\n"
      ],
      "metadata": {
        "id": "PyCbojj0R0mD"
      },
      "id": "PyCbojj0R0mD",
      "execution_count": null,
      "outputs": []
    },
    {
      "cell_type": "markdown",
      "source": [
        "#### Evaluating and Saving the Best Models\n",
        "\n",
        "After tuning the models using GridSearchCV, we evaluate and compare them based on metrics like accuracy and recall. These metrics provide insights into the models' performance, particularly in correctly identifying fake news (recall). The best parameters from GridSearchCV are used to retrain the models on the training data and then evaluate them on the test data.\n"
      ],
      "metadata": {
        "id": "hmlj-yIUTwv2"
      },
      "id": "hmlj-yIUTwv2"
    },
    {
      "cell_type": "code",
      "source": [
        "# Evaluating and saving the results of the best models\n",
        "models = {\n",
        "    'Naive Bayes': best_nb,\n",
        "    'Random Forest': best_rf,\n",
        "    'XGBoost': best_xgb,\n",
        "    'AdaBoost': best_adab\n",
        "}\n",
        "\n",
        "for model_name, model in models.items():\n",
        "    y_pred = model.predict(X_test_gs)\n",
        "    accuracy = accuracy_score(y_test_gs, y_pred)\n",
        "    recall = recall_score(y_test_gs, y_pred)\n",
        "    print(f\"Model: {model_name}\")\n",
        "    print(f\"Best Parameter: {model.get_params()}\")\n",
        "    print(f\"Accuracy: {accuracy:.4f}, Recall: {recall:.4f}\\n\")\n"
      ],
      "metadata": {
        "colab": {
          "base_uri": "https://localhost:8080/"
        },
        "id": "Dz-35QtKTxyG",
        "outputId": "54d269a5-cf66-433b-b2c7-0ed72f128c6d"
      },
      "id": "Dz-35QtKTxyG",
      "execution_count": 48,
      "outputs": [
        {
          "output_type": "stream",
          "name": "stdout",
          "text": [
            "Model: Naive Bayes\n",
            "Best Parameter: {'alpha': 1, 'class_prior': None, 'fit_prior': True, 'force_alpha': 'warn'}\n",
            "Accuracy: 0.7073, Recall: 0.9277\n",
            "\n",
            "Model: Random Forest\n",
            "Best Parameter: {'bootstrap': True, 'ccp_alpha': 0.0, 'class_weight': None, 'criterion': 'gini', 'max_depth': 10, 'max_features': 'sqrt', 'max_leaf_nodes': None, 'max_samples': None, 'min_impurity_decrease': 0.0, 'min_samples_leaf': 1, 'min_samples_split': 10, 'min_weight_fraction_leaf': 0.0, 'n_estimators': 100, 'n_jobs': None, 'oob_score': False, 'random_state': 42, 'verbose': 0, 'warm_start': False}\n",
            "Accuracy: 0.7000, Recall: 0.9799\n",
            "\n",
            "Model: XGBoost\n",
            "Best Parameter: {'objective': 'binary:logistic', 'base_score': None, 'booster': None, 'callbacks': None, 'colsample_bylevel': None, 'colsample_bynode': None, 'colsample_bytree': None, 'device': None, 'early_stopping_rounds': None, 'enable_categorical': False, 'eval_metric': 'logloss', 'feature_types': None, 'gamma': None, 'grow_policy': None, 'importance_type': None, 'interaction_constraints': None, 'learning_rate': 0.01, 'max_bin': None, 'max_cat_threshold': None, 'max_cat_to_onehot': None, 'max_delta_step': None, 'max_depth': 3, 'max_leaves': None, 'min_child_weight': None, 'missing': nan, 'monotone_constraints': None, 'multi_strategy': None, 'n_estimators': 100, 'n_jobs': None, 'num_parallel_tree': None, 'random_state': None, 'reg_alpha': None, 'reg_lambda': None, 'sampling_method': None, 'scale_pos_weight': None, 'subsample': None, 'tree_method': None, 'validate_parameters': None, 'verbosity': None, 'use_label_encoder': False}\n",
            "Accuracy: 0.7000, Recall: 0.9759\n",
            "\n",
            "Model: AdaBoost\n",
            "Best Parameter: {'algorithm': 'SAMME.R', 'base_estimator': 'deprecated', 'estimator__ccp_alpha': 0.0, 'estimator__class_weight': None, 'estimator__criterion': 'gini', 'estimator__max_depth': 1, 'estimator__max_features': None, 'estimator__max_leaf_nodes': None, 'estimator__min_impurity_decrease': 0.0, 'estimator__min_samples_leaf': 1, 'estimator__min_samples_split': 2, 'estimator__min_weight_fraction_leaf': 0.0, 'estimator__random_state': 42, 'estimator__splitter': 'best', 'estimator': DecisionTreeClassifier(max_depth=1, random_state=42), 'learning_rate': 0.01, 'n_estimators': 50, 'random_state': 42}\n",
            "Accuracy: 0.6805, Recall: 0.9839\n",
            "\n"
          ]
        }
      ]
    },
    {
      "cell_type": "markdown",
      "source": [
        "Results:\n",
        "\n",
        "Model: Naive Bayes\n",
        "Best Parameter:\n",
        "Accuracy: 0.7073, Recall: 0.9277\n",
        "\n",
        "Model: Random Forest\n",
        "Best Parameter:\n",
        "Accuracy: 0.7000, Recall: 0.9799\n",
        "\n",
        "Model: XGBoost\n",
        "Best Parameter:\n",
        "Accuracy: 0.7000, Recall: 0.9759\n",
        "\n",
        "Model: AdaBoost\n",
        "Best Parameter:\n",
        "Accuracy: 0.6805, Recall: 0.9839\n"
      ],
      "metadata": {
        "id": "HGmoaI0-LYu1"
      },
      "id": "HGmoaI0-LYu1"
    },
    {
      "cell_type": "markdown",
      "source": [
        "# **5. Plotting Models and Placeholder for Frontend Integration**\n",
        "\n",
        "This section is dedicated to preparing the models for deployment and creating a testing interface within the notebook as a placeholder for a potential frontend integration. We also implement preprocessing steps on the test data to ensure consistency with the training data.\n",
        "\n",
        "**Plotting Models**\n",
        "The term 'plotting' in this context refers to saving the trained models in a format that can be easily loaded and used for predictions, not visual plotting. This is a crucial step for deploying the models in a real-world application.\n"
      ],
      "metadata": {
        "id": "CVNm_6ZcLqtP"
      },
      "id": "CVNm_6ZcLqtP"
    },
    {
      "cell_type": "code",
      "source": [
        "# Saving the trained models for later use\n",
        "for model_name, model in models.items():\n",
        "    name = model_name + '.joblib'\n",
        "    dump(model, name)\n"
      ],
      "metadata": {
        "id": "iItlNwrihgQf"
      },
      "id": "iItlNwrihgQf",
      "execution_count": 34,
      "outputs": []
    },
    {
      "cell_type": "markdown",
      "source": [
        "**Manual Input for Testing**\n",
        "As a temporary measure for testing, we implement a manual input mechanism within the notebook. This allows us to simulate how the models would process and predict new text inputs, mimicking a user interface in a frontend application.\n"
      ],
      "metadata": {
        "id": "ox6RqtpUMQdR"
      },
      "id": "ox6RqtpUMQdR"
    },
    {
      "cell_type": "code",
      "source": [
        "# Manual input for title and text\n",
        "input_text1 = input(\"titel: \\n\")\n",
        "input_text2 = input(\"text: \\n\")\n"
      ],
      "metadata": {
        "colab": {
          "base_uri": "https://localhost:8080/"
        },
        "id": "3XB99PwyNXCE",
        "outputId": "d809144f-fcce-4d99-d890-a7aa588c11f7"
      },
      "id": "3XB99PwyNXCE",
      "execution_count": 35,
      "outputs": [
        {
          "name": "stdout",
          "output_type": "stream",
          "text": [
            "titel: \n",
            "Prominent Scientist Claims the Earth is Flat\n",
            "text: \n",
            "A recently published report from a purportedly reputable scientist has sent shockwaves through the scientific community. In a startling turn of events, the report claims that the Earth is flat, contradicting centuries of astronomical research and observation. Experts are skeptical and warn against the spread of misinformation, yet the news is rapidly gaining traction on social media platforms\n"
          ]
        }
      ]
    },
    {
      "cell_type": "markdown",
      "source": [
        "Example Input for FakeNews:\n",
        "\n",
        "titel:\n",
        "*Prominent Scientist Claims the Earth is Flat*\n",
        "\n",
        "text:\n",
        "*A recently published report from a purportedly reputable scientist has sent shockwaves through the scientific community. In a startling turn of events, the report claims that the Earth is flat, contradicting centuries of astronomical research and observation. Experts are skeptical and warn against the spread of misinformation, yet the news is rapidly gaining traction on social media platforms*"
      ],
      "metadata": {
        "id": "ss6gq3gnbHF3"
      },
      "id": "ss6gq3gnbHF3"
    },
    {
      "cell_type": "markdown",
      "source": [
        "**Preprocessing Test Data**\n",
        "It's essential to apply the same preprocessing steps to the test data as were applied to the training data. This includes removing stopwords, normalizing, and lemmatizing the text to ensure that the input data is in a format that the models can process effectively.\n"
      ],
      "metadata": {
        "id": "KN5yCE1JMcFA"
      },
      "id": "KN5yCE1JMcFA"
    },
    {
      "cell_type": "code",
      "source": [
        "# Preprocessing the test data to match the format of the training data\n",
        "# Make sure spaCy's English model is downloaded\n",
        "download(\"en_core_web_sm\")\n",
        "nlp = spacy.load('en_core_web_sm')\n",
        "\n",
        "# Load stopwords\n",
        "nltk.download('stopwords')\n",
        "nltk.download('punkt')\n",
        "stop_words = set(stopwords.words('english'))\n",
        "\n",
        "def preprocess_text(text):\n",
        "    # Remove stopwords\n",
        "    tokens = word_tokenize(text.lower())\n",
        "    no_stopwords = [word for word in tokens if word.lower() not in stop_words]\n",
        "\n",
        "    # Normalize the text\n",
        "    normalized = re.sub(r'[^a-zäöüß]', ' ', ' '.join(no_stopwords))\n",
        "    normalized = re.sub(r'\\s+', ' ', normalized).strip()\n",
        "\n",
        "    # Lemmatize the text\n",
        "    doc = nlp(normalized)\n",
        "    lemmatized = ' '.join([token.lemma_ for token in doc])\n",
        "    return lemmatized\n",
        "\n",
        "# Replace `input_text1` and `input_text2` with your actual text variables\n",
        "# Apply preprocessing to the input texts\n",
        "title_input_final = preprocess_text(input_text1)\n",
        "text_input_final = preprocess_text(input_text2)\n",
        "\n",
        "print(title_input_final)\n",
        "print(\"\\n\")\n",
        "print(text_input_final)\n"
      ],
      "metadata": {
        "colab": {
          "base_uri": "https://localhost:8080/"
        },
        "id": "ihedJO9FO_xW",
        "outputId": "6d46155c-32d1-41d5-febc-38cc775b3950"
      },
      "id": "ihedJO9FO_xW",
      "execution_count": 37,
      "outputs": [
        {
          "output_type": "stream",
          "name": "stdout",
          "text": [
            "\u001b[38;5;2m✔ Download and installation successful\u001b[0m\n",
            "You can now load the package via spacy.load('en_core_web_sm')\n",
            "prominent scientist claim earth flat\n",
            "\n",
            "\n",
            "recently publish report purportedly reputable scientist send shockwave scientific community startling turn event report claim earth flat contradict century astronomical research observation expert skeptical warn spread misinformation yet news rapidly gain traction social medium platform\n"
          ]
        },
        {
          "output_type": "stream",
          "name": "stderr",
          "text": [
            "[nltk_data] Downloading package stopwords to /root/nltk_data...\n",
            "[nltk_data]   Package stopwords is already up-to-date!\n",
            "[nltk_data] Downloading package punkt to /root/nltk_data...\n",
            "[nltk_data]   Package punkt is already up-to-date!\n"
          ]
        }
      ]
    },
    {
      "cell_type": "markdown",
      "source": [
        "**Model Evaluation and Prediction**\n",
        "We select a model (e.g., AdaBoost) to predict the label of the test data. The prediction is formatted as 'FakeNews' or 'TrueStory' based on the output of the model. This step simulates how the model would be used in an application to classify news articles.\n"
      ],
      "metadata": {
        "id": "PD0MfE_YNWjv"
      },
      "id": "PD0MfE_YNWjv"
    },
    {
      "cell_type": "code",
      "source": [
        "# Saving TfidfVectorizer\n",
        "joblib.dump(tfidf_cleaned, 'tfidf_vectorizer.joblib')\n",
        "\n",
        "# Loading the TfidfVectorizer and transforming the input data\n",
        "tfidf_vectorizer = joblib.load('tfidf_vectorizer.joblib')\n",
        "combined_input = title_input_final + \" \" + text_input_final\n",
        "input_vector = tfidf_vectorizer.transform([combined_input])\n",
        "\n",
        "# Loading the trained model and making predictions\n",
        "trained_model = load('AdaBoost.joblib')\n",
        "prediction = trained_model.predict(input_vector)\n",
        "\n",
        "# Formatting and displaying the prediction\n",
        "label_output = \"FakeNews!\" if prediction == 1 else \"TrueStory\"\n",
        "print(label_output)\n",
        "print(\"Predicted Label:\", prediction)\n"
      ],
      "metadata": {
        "colab": {
          "base_uri": "https://localhost:8080/"
        },
        "id": "HHDAjP2il0Bm",
        "outputId": "e0c1ca5e-a290-4a37-e912-d03f068dfe83"
      },
      "id": "HHDAjP2il0Bm",
      "execution_count": 44,
      "outputs": [
        {
          "output_type": "stream",
          "name": "stdout",
          "text": [
            "FakeNews!\n",
            "Predicted Label: [1.]\n"
          ]
        }
      ]
    },
    {
      "cell_type": "code",
      "source": [
        "# Load the trained models and make predictions\n",
        "models = ['Naive Bayes', 'Random Forest', 'XGBoost', 'AdaBoost']\n",
        "model_files = ['Naive Bayes.joblib', 'Random Forest.joblib', 'XGBoost.joblib', 'AdaBoost.joblib']\n",
        "\n",
        "for model_name, model_file in zip(models, model_files):\n",
        "    model = load(model_file)\n",
        "    prediction = model.predict(input_vector)\n",
        "    print(f\"Model: {model_name}, Predicted Label: {prediction}\")\n"
      ],
      "metadata": {
        "colab": {
          "base_uri": "https://localhost:8080/"
        },
        "id": "vq5xO8AaPTBi",
        "outputId": "b1cee98a-4e3a-4d16-e798-08ac1289b46d"
      },
      "id": "vq5xO8AaPTBi",
      "execution_count": 45,
      "outputs": [
        {
          "output_type": "stream",
          "name": "stdout",
          "text": [
            "Model: Naive Bayes, Predicted Label: [1.]\n",
            "Model: Random Forest, Predicted Label: [1.]\n",
            "Model: XGBoost, Predicted Label: [0]\n",
            "Model: AdaBoost, Predicted Label: [1.]\n"
          ]
        }
      ]
    },
    {
      "cell_type": "markdown",
      "source": [
        "**Comparing Models and Majority Voting**\n",
        "In this part, we load all the trained models and use them to predict the label of the test data. We then choose the label that is most frequently predicted by these models. This method, known as majority voting, can help in making a more robust prediction by combining the strengths of multiple models.\n"
      ],
      "metadata": {
        "id": "S2WOS1xWPUA9"
      },
      "id": "S2WOS1xWPUA9"
    },
    {
      "cell_type": "code",
      "source": [
        "# Loading the trained models and making predictions on the test data\n",
        "models = ['Naive Bayes', 'Random Forest', 'XGBoost', 'AdaBoost']\n",
        "model_files = ['Naive Bayes.joblib', 'Random Forest.joblib', 'XGBoost.joblib', 'AdaBoost.joblib']\n",
        "\n",
        "# Collecting predictions from each model\n",
        "predictions = []\n",
        "for model_file in model_files:\n",
        "    model = load(model_file)\n",
        "    prediction = model.predict(input_vector)[0]  # Get the predicted label\n",
        "    predictions.append(prediction)\n",
        "\n",
        "# Determining the most common prediction label\n",
        "most_common_prediction, count = Counter(predictions).most_common(1)[0]\n",
        "\n",
        "# Creating the output\n",
        "# The label is determined as 'Fake News' if the most common prediction is 1, else 'Real News'\n",
        "label = \"Fake News\" if most_common_prediction == 1 else \"Real News\"\n",
        "output_string = f\"The text seems to be {label}, as {count}/4 of the models conclude this.\"\n",
        "print(output_string)\n"
      ],
      "metadata": {
        "colab": {
          "base_uri": "https://localhost:8080/"
        },
        "id": "zAvx1624RB55",
        "outputId": "14c83b9c-3e11-4d12-d931-f23188e6ffdc"
      },
      "id": "zAvx1624RB55",
      "execution_count": 47,
      "outputs": [
        {
          "output_type": "stream",
          "name": "stdout",
          "text": [
            "The text seems to be Fake News, as 3/4 of the models conclude this.\n"
          ]
        }
      ]
    },
    {
      "cell_type": "markdown",
      "source": [
        "Example Output:\n",
        "\n",
        "\"*The text seems to be Fake News, as 3/4 of the models conclude this.*\""
      ],
      "metadata": {
        "id": "KCu4Ivg1bqx0"
      },
      "id": "KCu4Ivg1bqx0"
    },
    {
      "cell_type": "markdown",
      "source": [
        "# **6. Conclusion**\n",
        "\n",
        "Reflecting on this project, particularly the balance between recall and accuracy, an important consideration emerges. Specifically, in the context of fake news detection, it might be more advantageous to prioritize a higher recall for identifying 'Not Fake News' to ensure the reliability of verifying the truthfulness of content. This approach could be more valuable in providing reliable assertions about whether a text's content is true, even if it means accepting a somewhat lower accuracy (e.g., around 70%). Such a strategy could more effectively counter the spread of false information while maintaining a reasonable level of accuracy.\n",
        "\n"
      ],
      "metadata": {
        "id": "FGVjuPXlOab8"
      },
      "id": "FGVjuPXlOab8"
    }
  ],
  "metadata": {
    "colab": {
      "provenance": [],
      "include_colab_link": true
    },
    "language_info": {
      "name": "python"
    },
    "kernelspec": {
      "name": "python3",
      "display_name": "Python 3"
    }
  },
  "nbformat": 4,
  "nbformat_minor": 5
}